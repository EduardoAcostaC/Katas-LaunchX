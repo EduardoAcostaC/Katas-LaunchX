{
 "cells": [
  {
   "cell_type": "markdown",
   "metadata": {},
   "source": [
    "## Advertencia de Asteroide\n",
    "Problema 1\n",
    "* Añadir el código necesario para crear una variable que guarde la velocidad del asteroide.\n",
    "* Escribe una expresión de prueba para calcular si necesita una advertencia.\n",
    "* Agregue las instrucciones que se ejecutarán si la expresión de prueba es true o false.\n"
   ]
  },
  {
   "cell_type": "code",
   "execution_count": 1,
   "metadata": {},
   "outputs": [
    {
     "name": "stdout",
     "output_type": "stream",
     "text": [
      "¡ALERTA! Es momento de salir corriendo, ocuparás tu boleto a Marte\n"
     ]
    }
   ],
   "source": [
    "asteroideVe = 49 \n",
    "if asteroideVe > 25 :\n",
    "    print(\"¡ALERTA! Es momento de salir corriendo, ocuparás tu boleto a Marte\")\n",
    "else:\n",
    "    print(\"Aún puedes seguir disfrutando de la Tierra \")"
   ]
  },
  {
   "cell_type": "markdown",
   "metadata": {},
   "source": [
    "Problema 2\n",
    "* Agrega el código para crear una variable para un asteroide que viaja a 19 km/s\n",
    "* Escribe varias expresiones de prueba para determinar si puedes ver el rayo de luz desde la tierra\n",
    "* Agrega las instrucciones que se ejecutarán si las expresiones de prueba son True o False"
   ]
  },
  {
   "cell_type": "code",
   "execution_count": 3,
   "metadata": {},
   "outputs": [
    {
     "name": "stdout",
     "output_type": "stream",
     "text": [
      "Continue su camino, solo se ve la contaminación de la ciudad\n"
     ]
    }
   ],
   "source": [
    "asteroide = 19\n",
    "if asteroide >= 20:\n",
    "    print(\"Voltea al cielo y ve lo genial que es un asteoride\")\n",
    "else:\n",
    "    print(\"Continue su camino, solo se ve la contaminación de la ciudad\")"
   ]
  },
  {
   "cell_type": "markdown",
   "metadata": {},
   "source": [
    "Problema 3\n",
    "* Agrega el código para crear nuevas variables para la velocidad y el tamaño del asteroide\n",
    "* Para probar el código, prueba con varias velocidades y tamaños\n",
    "* Escribe varias expresiones de prueba o combinaciones de expresiones de prueba para determinar qué mensaje se debe enviar a Tierra."
   ]
  },
  {
   "cell_type": "code",
   "execution_count": 4,
   "metadata": {},
   "outputs": [
    {
     "name": "stdout",
     "output_type": "stream",
     "text": [
      "Voltea al cielo y ve lo genial que es un asteroide\n"
     ]
    }
   ],
   "source": [
    "asteroideSpeed = 25\n",
    "asteriodeSize = 40\n",
    "if asteroideSpeed > 25 and asteriodeSize > 25:\n",
    "    print('¡ALERTA! Moriremos como los dinosaurios!!!!')\n",
    "elif asteroideSpeed >= 20:\n",
    "    print('Voltea al cielo y ve lo genial que es un asteroide')\n",
    "elif asteriodeSize < 25:\n",
    "    print('Continue su camino, solo se ve la contaminacion de la ciudad')\n",
    "else:\n",
    "    print('Continue su camino, solo se ve la contaminacion de la ciudad')"
   ]
  }
 ],
 "metadata": {
  "interpreter": {
   "hash": "520b1c8e76d8f70b160edf90a6a5217779523187381bb5aaf4130dafb2a13ec2"
  },
  "kernelspec": {
   "display_name": "Python 3.10.2 64-bit (windows store)",
   "language": "python",
   "name": "python3"
  },
  "language_info": {
   "codemirror_mode": {
    "name": "ipython",
    "version": 3
   },
   "file_extension": ".py",
   "mimetype": "text/x-python",
   "name": "python",
   "nbconvert_exporter": "python",
   "pygments_lexer": "ipython3",
   "version": "3.10.2"
  },
  "orig_nbformat": 4
 },
 "nbformat": 4,
 "nbformat_minor": 2
}
